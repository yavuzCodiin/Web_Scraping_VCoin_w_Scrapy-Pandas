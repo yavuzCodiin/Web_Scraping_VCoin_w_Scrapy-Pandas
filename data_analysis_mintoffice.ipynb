{
 "cells": [
  {
   "cell_type": "code",
   "execution_count": null,
   "metadata": {},
   "outputs": [],
   "source": [
    "import pandas as pd\n",
    "import numpy as np\n",
    "\n",
    "test = pd.read_csv(\"money.csv\",index_col=\"Count\")\n",
    "test"
   ]
  },
  {
   "cell_type": "code",
   "execution_count": null,
   "metadata": {},
   "outputs": [],
   "source": [
    "test.shape\n",
    "test.info()\n",
    "test.describe()"
   ]
  },
  {
   "cell_type": "code",
   "execution_count": null,
   "metadata": {},
   "outputs": [],
   "source": [
    "test.isnull().sum()"
   ]
  },
  {
   "cell_type": "code",
   "execution_count": null,
   "metadata": {},
   "outputs": [],
   "source": [
    "test.drop_duplicates().sort_values(by=\"Price\",ascending=False).head(25)"
   ]
  },
  {
   "cell_type": "code",
   "execution_count": null,
   "metadata": {},
   "outputs": [],
   "source": [
    "# Regular expression(Regex) pattern to match 2, 3, or 4 consecutive digits.\n",
    "pattern = r'(\\b\\d{4}\\b|\\b\\d{3}\\b|\\b\\d{2}\\b)'\n",
    "\n",
    "test['Extracted_Year'] = test['Money'].str.extract(pattern, expand=False)\n",
    "\n",
    "test['Extracted_Year'] = pd.to_numeric(test['Extracted_Year'], errors='coerce').fillna(-1).astype(int)\n",
    "\n",
    "test.drop_duplicates().sort_values(by='Extracted_Year',ascending=False).head(60)"
   ]
  },
  {
   "cell_type": "code",
   "execution_count": null,
   "metadata": {},
   "outputs": [],
   "source": [
    "def clean_price(price):\n",
    "    price = price.replace('US$', '').replace('€', '').replace('£', '').replace('NOK', '')\n",
    "    price = price.replace(',', '').replace('.', '')\n",
    "    price = price.strip()\n",
    "    return price\n",
    "\n",
    "# Apply the cleaning function to Price Column\n",
    "test['Price'] = test['Price'].apply(clean_price)\n",
    "test['Price'] = pd.to_numeric(test['Price'], errors='coerce')\n",
    "test[[\"Money\", \"Price\"]].drop_duplicates().sort_values(by=\"Price\", ascending=False).head(40)"
   ]
  },
  {
   "cell_type": "code",
   "execution_count": null,
   "metadata": {},
   "outputs": [],
   "source": [
    "test[test[\"Money\"].apply(lambda x : x.startswith(\"Elizabeth\"))]\n",
    "\n",
    "test[test[\"Seller\"].apply(lambda x : x.startswith(\"Sovereign\"))]\n",
    "\n",
    "test[test[\"Money\"].isin([\"Elizabeth II 1966 Gillick Sovereign MS64\"])]\n"
   ]
  }
 ],
 "metadata": {
  "language_info": {
   "name": "python"
  }
 },
 "nbformat": 4,
 "nbformat_minor": 2
}
