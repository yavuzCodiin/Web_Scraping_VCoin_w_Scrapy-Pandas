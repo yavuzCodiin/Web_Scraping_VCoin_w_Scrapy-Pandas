# %%
import pandas as pd
import numpy as np

test = pd.read_csv("money.csv",index_col="Count")
test

# %%
test.shape
test.info()
test.describe()

# %%
test.isnull().sum()

# %%
test.drop_duplicates().sort_values(by="Price",ascending=False).head(25)

# %%
# Regular expression(Regex) pattern to match 2, 3, or 4 consecutive digits.
pattern = r'(\b\d{4}\b|\b\d{3}\b|\b\d{2}\b)'

test['Extracted_Year'] = test['Money'].str.extract(pattern, expand=False)

test['Extracted_Year'] = pd.to_numeric(test['Extracted_Year'], errors='coerce').fillna(-1).astype(int)

test.drop_duplicates().sort_values(by='Extracted_Year',ascending=False).head(60)

# %%
def clean_price(price):
    price = price.replace('US$', '').replace('€', '').replace('£', '').replace('NOK', '')
    price = price.replace(',', '').replace('.', '')
    price = price.strip()
    return price

# Apply the cleaning function to Price Column
test['Price'] = test['Price'].apply(clean_price)
test['Price'] = pd.to_numeric(test['Price'], errors='coerce')
test[["Money", "Price"]].drop_duplicates().sort_values(by="Price", ascending=False).head(40)

# %%
test[test["Money"].apply(lambda x : x.startswith("Elizabeth"))]

test[test["Seller"].apply(lambda x : x.startswith("Sovereign"))]

test[test["Money"].isin(["Elizabeth II 1966 Gillick Sovereign MS64"])]



